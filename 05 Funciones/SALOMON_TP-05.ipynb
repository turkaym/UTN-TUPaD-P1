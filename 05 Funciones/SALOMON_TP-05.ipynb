{
 "cells": [
  {
   "cell_type": "markdown",
   "id": "12eb1af4",
   "metadata": {},
   "source": [
    "1. Crear una función llamada imprimir_hola_mundo que imprima por\n",
    "pantalla el mensaje: “Hola Mundo!”. Llamar a esta función desde el\n",
    "programa principal."
   ]
  },
  {
   "cell_type": "code",
   "execution_count": null,
   "id": "bd9ba996",
   "metadata": {},
   "outputs": [],
   "source": [
    "#Definicion de funciones\n",
    "def saludo(mensaje):\n",
    "    print(mensaje)\n",
    "\n",
    "#Programa principal\n",
    "mensaje = saludo(\"Hola mundo!\")"
   ]
  },
  {
   "cell_type": "markdown",
   "id": "dd80d226",
   "metadata": {},
   "source": [
    "2. Crear una función llamada saludar_usuario(nombre) que reciba\n",
    "como parámetro un nombre y devuelva un saludo personalizado.\n",
    "Por ejemplo, si se llama con saludar_usuario(\"Marcos\"), deberá devolver: “Hola Marcos!”. Llamar a esta función desde el programa\n",
    "principal solicitando el nombre al usuario."
   ]
  },
  {
   "cell_type": "code",
   "execution_count": null,
   "id": "5e014a54",
   "metadata": {},
   "outputs": [],
   "source": [
    "#Definicion de funciones\n",
    "def saludar_usuario(nombre):\n",
    "    print(f\"Hola {nombre}!\")\n",
    "\n",
    "#Programa principal\n",
    "saludo = saludar_usuario(\"Marcos\")"
   ]
  },
  {
   "cell_type": "markdown",
   "id": "58aa1f9d",
   "metadata": {},
   "source": [
    "3. Crear una función llamada informacion_personal(nombre, apellido,\n",
    "edad, residencia) que reciba cuatro parámetros e imprima: “Soy\n",
    "[nombre] [apellido], tengo [edad] años y vivo en [residencia]”. Pedir los datos al usuario y llamar a esta función con los valores ingresados."
   ]
  },
  {
   "cell_type": "code",
   "execution_count": null,
   "id": "8c1e617d",
   "metadata": {},
   "outputs": [],
   "source": [
    "#Definicion de funciones\n",
    "def nombre():\n",
    "    nombre = input(\"Ingresar nombre: \")\n",
    "    return nombre\n",
    "\n",
    "def apellido():\n",
    "    apellido = input(\"Ingresar apellido: \")\n",
    "    return apellido\n",
    "\n",
    "def edad():\n",
    "    edad = int(input(\"Ingresar tu edad: \")) \n",
    "    return edad\n",
    "\n",
    "def residencia():\n",
    "    residencia = input(\"Ingresa tu lugar de residencia: \")\n",
    "    return residencia\n",
    "\n",
    "def informacion_personal(nombre, apellido, edad, residencia):\n",
    "   return f\"Yo soy {nombre} {apellido}, tengo {edad} y vivo en {residencia}\"\n",
    "\n",
    "#Programa principal\n",
    "nombre = nombre().title()\n",
    "apellido = apellido().title()\n",
    "edad = edad()\n",
    "residencia = residencia().title()\n",
    "\n",
    "print(informacion_personal(nombre, apellido, edad, residencia))"
   ]
  },
  {
   "cell_type": "markdown",
   "id": "f2cc8f91",
   "metadata": {},
   "source": [
    "4. Crear dos funciones: calcular_area_circulo(radio) que reciba el radio como parámetro y devuelva el área del círculo. calcular_perimetro_circulo(radio) que reciba el radio como parámetro y devuelva el perímetro del círculo. Solicitar el radio al usuario y llamar ambas funciones para mostrar los resultados."
   ]
  },
  {
   "cell_type": "code",
   "execution_count": null,
   "id": "10dd3ba2",
   "metadata": {},
   "outputs": [],
   "source": [
    "import math\n",
    "#Definicion de funciones\n",
    "def leer_flotante_validado(mensaje, min = float(\"-inf\")):\n",
    "    n = float(input(f\"{mensaje}\"))\n",
    "    while n < min:\n",
    "        n = float(input(f\"ERROR!. {mensaje}\"))\n",
    "    return n\n",
    "\n",
    "def perimetro_calculado(radio):\n",
    "    perimetro = 2 * math.pi * radio\n",
    "    return perimetro\n",
    "\n",
    "def calcular_perimetro_circulo(radio):\n",
    "    return perimetro_calculado(radio)\n",
    "\n",
    "def area_calculada(radio):\n",
    "    area = math.pi * radio**2\n",
    "    return area\n",
    "\n",
    "def calcular_area_circulo(radio):\n",
    "    return area_calculada(radio)\n",
    "\n",
    "#Programa principal\n",
    "radio = leer_flotante_validado(\"Ingresa el radio: \", 1)\n",
    "area = calcular_area_circulo(radio)    \n",
    "perimetro = calcular_perimetro_circulo(radio)\n",
    "\n",
    "print(f\"Radio: {radio} - Area: {area:.2f} - Perimetro: {perimetro:.2f}.\")"
   ]
  },
  {
   "cell_type": "markdown",
   "id": "6bb5c573",
   "metadata": {},
   "source": [
    "5. Crear una función llamada segundos_a_horas(segundos) que reciba\n",
    "una cantidad de segundos como parámetro y devuelva la cantidad\n",
    "de horas correspondientes. Solicitar al usuario los segundos y mostrar el resultado usando esta función."
   ]
  },
  {
   "cell_type": "code",
   "execution_count": null,
   "id": "73843d55",
   "metadata": {},
   "outputs": [],
   "source": [
    "#Definicion de funcionesz\n",
    "def leer_segundos_validados(mensaje, min = float(\"-inf\")):\n",
    "    n = int(input(f\"{mensaje}\"))\n",
    "    while n < min:\n",
    "        n = int(input(f\"ERROR!. {mensaje}\"))\n",
    "    return n\n",
    "\n",
    "def segundos_a_horas(segundos):\n",
    "    return segundos // 3600\n",
    "\n",
    "#Programa principal\n",
    "segundos = leer_segundos_validados(\"Ingresa los segundos: \", 1)\n",
    "horas = segundos_a_horas(segundos)\n",
    "print(f\"{segundos} segundos equivale a {horas} horas\")"
   ]
  },
  {
   "cell_type": "markdown",
   "id": "425651a6",
   "metadata": {},
   "source": [
    "6. Crear una función llamada tabla_multiplicar(numero) que reciba un\n",
    "número como parámetro y imprima la tabla de multiplicar de ese\n",
    "número del 1 al 10. Pedir al usuario el número y llamar a la función."
   ]
  },
  {
   "cell_type": "code",
   "execution_count": null,
   "id": "4fecddf9",
   "metadata": {},
   "outputs": [],
   "source": [
    "def leer_entero_validado(mensaje, min = float(\"-inf\"), max = float(\"inf\")):\n",
    "    n = int(input(f\"{mensaje}\"))\n",
    "    while n < min or n > max:\n",
    "        n = int(input(f\"ERROR! {mensaje}\"))\n",
    "    return n\n",
    "\n",
    "def tabla_multiplicar(numero):\n",
    "    for i in range(1, 11):\n",
    "        print(f\"{numero} x {i} = {numero * i}\")\n",
    "    \n",
    "\n",
    "numero = leer_entero_validado(\"Ingresa un numero para multiplicar: \",1 , 10)\n",
    "resultado = tabla_multiplicar(numero)\n",
    "print(resultado)"
   ]
  },
  {
   "cell_type": "markdown",
   "id": "8e7fde53",
   "metadata": {},
   "source": [
    "7. Crear una función llamada operaciones_basicas(a, b) que reciba\n",
    "dos números como parámetros y devuelva una tupla con el resultado de sumarlos, restarlos, multiplicarlos y dividirlos. Mostrar los resultados de forma clara."
   ]
  },
  {
   "cell_type": "code",
   "execution_count": null,
   "id": "1b90ca36",
   "metadata": {},
   "outputs": [],
   "source": [
    "def leer_numero(mensaje):\n",
    "    numero = int(input(f\"{mensaje}\"))\n",
    "    return numero\n",
    "\n",
    "def suma(a,b):\n",
    "    return a + b\n",
    "\n",
    "def resta(a,b):\n",
    "    return a - b\n",
    "\n",
    "def  multiplicacion(a, b):\n",
    "    return a * b\n",
    "\n",
    "def division(a, b):\n",
    "    if b == 0:\n",
    "        return \"ERROR! No se puede dividir por 0\"\n",
    "    return a / b\n",
    "\n",
    "def operaciones_basicas(a,b):\n",
    "    return (suma(a,b), resta(a,b), multiplicacion(a,b), division(a,b))\n",
    "\n",
    "def mostrar_resultado(a,b):\n",
    "    suma, resta, multiplicacion, division = operaciones_basicas(a,b)\n",
    "    print(f\"\"\"\n",
    "        suma: {a} + {b} = {suma}\n",
    "        resta: {a} - {b} = {resta}\n",
    "        multiplicacion: {a} * {b} = {multiplicacion}\n",
    "        division: {a} / {b} = {division}\n",
    "\"\"\")\n",
    "\n",
    "#Operaciones principales\n",
    "num1 = leer_numero(\"Ingresa el primer numero\")\n",
    "num2 = leer_numero(\"Ingresa el segundo numero\")\n",
    "print(mostrar_resultado(num1, num2))"
   ]
  },
  {
   "cell_type": "markdown",
   "id": "e2970bf8",
   "metadata": {},
   "source": [
    "8. Crear una función llamada calcular_imc(peso, altura) que reciba el\n",
    "peso en kilogramos y la altura en metros, y devuelva el índice de\n",
    "masa corporal (IMC). Solicitar al usuario los datos y llamar a la función para mostrar el resultado con dos decimales."
   ]
  }
 ],
 "metadata": {
  "language_info": {
   "name": "python"
  }
 },
 "nbformat": 4,
 "nbformat_minor": 5
}

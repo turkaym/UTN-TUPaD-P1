{
 "cells": [
  {
   "cell_type": "markdown",
   "id": "a6913a83",
   "metadata": {},
   "source": [
    "1) Crea una función recursiva que calcule el factorial de un número. Luego, utiliza esa\n",
    "función para calcular y mostrar en pantalla el factorial de todos los números enteros\n",
    "entre 1 y el número que indique el usuario.\n"
   ]
  },
  {
   "cell_type": "code",
   "execution_count": 7,
   "id": "f0a2c19d",
   "metadata": {},
   "outputs": [
    {
     "name": "stdout",
     "output_type": "stream",
     "text": [
      "1\n",
      "1! = 1\n",
      "2\n",
      "1\n",
      "2! = 2\n",
      "3\n",
      "2\n",
      "1\n",
      "3! = 6\n",
      "4\n",
      "3\n",
      "2\n",
      "1\n",
      "4! = 24\n",
      "5\n",
      "4\n",
      "3\n",
      "2\n",
      "1\n",
      "5! = 120\n"
     ]
    }
   ],
   "source": [
    "def fact_n_enteros(num):\n",
    "    for i in range(1, num + 1):\n",
    "        print(f\"{i}! = {factorial(i)}\")\n",
    "    \n",
    "def factorial(n):\n",
    "    if n == 0:\n",
    "        return 1\n",
    "    else:\n",
    "        print(n)\n",
    "        return n * factorial(n - 1)\n",
    "\n",
    "numero = int(input(\"Introduce un numero entero positivo: \"))\n",
    "fact_n_enteros(numero)\n",
    "\n"
   ]
  }
 ],
 "metadata": {
  "kernelspec": {
   "display_name": "Python 3",
   "language": "python",
   "name": "python3"
  },
  "language_info": {
   "codemirror_mode": {
    "name": "ipython",
    "version": 3
   },
   "file_extension": ".py",
   "mimetype": "text/x-python",
   "name": "python",
   "nbconvert_exporter": "python",
   "pygments_lexer": "ipython3",
   "version": "3.13.1"
  }
 },
 "nbformat": 4,
 "nbformat_minor": 5
}

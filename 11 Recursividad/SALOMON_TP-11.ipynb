{
 "cells": [
  {
   "cell_type": "markdown",
   "id": "a6913a83",
   "metadata": {},
   "source": [
    "1) Crea una función recursiva que calcule el factorial de un número. Luego, utiliza esa\n",
    "función para calcular y mostrar en pantalla el factorial de todos los números enteros\n",
    "entre 1 y el número que indique el usuario.\n"
   ]
  },
  {
   "cell_type": "code",
   "execution_count": 7,
   "id": "f0a2c19d",
   "metadata": {},
   "outputs": [
    {
     "name": "stdout",
     "output_type": "stream",
     "text": [
      "1\n",
      "1! = 1\n",
      "2\n",
      "1\n",
      "2! = 2\n",
      "3\n",
      "2\n",
      "1\n",
      "3! = 6\n",
      "4\n",
      "3\n",
      "2\n",
      "1\n",
      "4! = 24\n",
      "5\n",
      "4\n",
      "3\n",
      "2\n",
      "1\n",
      "5! = 120\n"
     ]
    }
   ],
   "source": [
    "def fact_n_enteros(num):\n",
    "    for i in range(1, num + 1):\n",
    "        print(f\"{i}! = {factorial(i)}\")\n",
    "    \n",
    "def factorial(n):\n",
    "    if n == 0:\n",
    "        return 1\n",
    "    else:\n",
    "        print(n)\n",
    "        return n * factorial(n - 1)\n",
    "\n",
    "numero = int(input(\"Introduce un numero entero positivo: \"))\n",
    "fact_n_enteros(numero)\n",
    "\n"
   ]
  },
  {
   "cell_type": "markdown",
   "id": "a17bd30f",
   "metadata": {},
   "source": [
    "2) Crea una función recursiva que calcule el valor de la serie de Fibonacci en la posición\n",
    "indicada. Posteriormente, muestra la serie completa hasta la posición que el usuario\n",
    "especifique"
   ]
  },
  {
   "cell_type": "code",
   "execution_count": null,
   "id": "66c45248",
   "metadata": {},
   "outputs": [
    {
     "name": "stdout",
     "output_type": "stream",
     "text": [
      "F0 = 0\n",
      "F1 = 1\n",
      "F2 = 1\n",
      "F3 = 2\n",
      "F4 = 3\n",
      "F5 = 5\n",
      "F6 = 8\n"
     ]
    }
   ],
   "source": [
    "def fibonacci(n):\n",
    "    if n == 0 or n == 1:\n",
    "        return n\n",
    "    else:\n",
    "        return fibonacci(n-1) + fibonacci(n-2)\n",
    "\n",
    "def serie_completa(n):\n",
    "    for i in range(n + 1):\n",
    "        print(f\"F{i} = {fibonacci(i)}\")\n",
    "\n",
    "posicion = int(input(\"Ingresa un numero de posicion fibonacci: \"))\n",
    "serie_completa(posicion)\n"
   ]
  },
  {
   "cell_type": "markdown",
   "id": "ce8316df",
   "metadata": {},
   "source": [
    "3) Crea una función recursiva que calcule la potencia de un número base elevado a un\n",
    "exponente, utilizando la fórmula 𝑛 elevado a la 𝑚 = 𝑛 ∗ 𝑛 elevado a la (𝑚−1). Prueba esta función en un algoritmo general."
   ]
  },
  {
   "cell_type": "code",
   "execution_count": 13,
   "id": "dda53f7d",
   "metadata": {},
   "outputs": [
    {
     "name": "stdout",
     "output_type": "stream",
     "text": [
      "2.0 elevado a 5 es igual a 32.0\n"
     ]
    }
   ],
   "source": [
    "def calcular_potencia_de_numero(base, exponente):\n",
    "    if exponente == 0:\n",
    "        return 1\n",
    "    else:\n",
    "        return base * calcular_potencia_de_numero(base, exponente - 1)\n",
    "\n",
    "base = float(input(\"Introduce el numero de la base: \"))\n",
    "exponente = int(input(\"Introduce el exponente: \"))\n",
    "\n",
    "resultado = calcular_potencia_de_numero(base, exponente)\n",
    "print(f\"{base} elevado a {exponente} es igual a {resultado}\")"
   ]
  },
  {
   "cell_type": "markdown",
   "id": "ba6d301a",
   "metadata": {},
   "source": [
    "4) Crear una función recursiva en Python que reciba un número entero positivo en base\n",
    "decimal y devuelva su representación en binario como una cadena de texto."
   ]
  },
  {
   "cell_type": "code",
   "execution_count": null,
   "id": "710528e4",
   "metadata": {},
   "outputs": [
    {
     "name": "stdout",
     "output_type": "stream",
     "text": [
      "10 en binario es 1010\n"
     ]
    }
   ],
   "source": [
    "def binario(numero):\n",
    "   if numero < 2:\n",
    "      return str(numero)\n",
    "   else:\n",
    "      return binario(numero // 2) + str(numero % 2)\n",
    "\n",
    "if __name__ == \"__main__\":\n",
    "    entero = int(input(\"Ingresa un numero entero positivo: \"))\n",
    "    resultado = binario(entero)\n",
    "    print(f\"{entero} en binario es {resultado}\")"
   ]
  },
  {
   "cell_type": "markdown",
   "id": "266076c0",
   "metadata": {},
   "source": [
    "5) Implementá una función recursiva llamada es_palindromo(palabra) que reciba una\n",
    "cadena de texto sin espacios ni tildes, y devuelva True si es un palíndromo o False si no\n",
    "lo es.\n",
    " Requisitos:\n",
    "La solución debe ser recursiva.\n",
    "No se debe usar [::-1] ni la función reversed()."
   ]
  },
  {
   "cell_type": "code",
   "execution_count": 34,
   "id": "89c3de5d",
   "metadata": {},
   "outputs": [
    {
     "name": "stdout",
     "output_type": "stream",
     "text": [
      "neuquen = True\n"
     ]
    }
   ],
   "source": [
    "def es_palindromo(palabra):\n",
    "    if len(palabra) <= 1:\n",
    "        return True\n",
    "    elif palabra[0] != palabra[-1]:\n",
    "        return False\n",
    "    else:\n",
    "        return es_palindromo(palabra[1 : -1])\n",
    "\n",
    "palabra = input(\"Ingresa una palabra para saber si es palindromo: \")\n",
    "palindromo = es_palindromo(palabra)\n",
    "print(f\"{palabra} = {palindromo}\")"
   ]
  },
  {
   "cell_type": "markdown",
   "id": "af51f48e",
   "metadata": {},
   "source": [
    "6) Escribí una función recursiva en Python llamada suma_digitos(n) que reciba un\n",
    "número entero positivo y devuelva la suma de todos sus dígitos.\n",
    " Restricciones:\n",
    "No se puede convertir el número a string.\n",
    "Usá operaciones matemáticas (%, //) y recursión.\n",
    "Ejemplos:\n",
    "suma_digitos(1234) → 10 (1 + 2 + 3 + 4)\n",
    "suma_digitos(9) → 9\n",
    "suma_digitos(305) → 8 (3 + 0 + 5)\n"
   ]
  },
  {
   "cell_type": "code",
   "execution_count": 39,
   "id": "dff02ee7",
   "metadata": {},
   "outputs": [
    {
     "name": "stdout",
     "output_type": "stream",
     "text": [
      "La suma de los digitos de 305 es 8\n"
     ]
    }
   ],
   "source": [
    "def suma_digitos(n):\n",
    "    if n < 10:\n",
    "        return n\n",
    "    else:\n",
    "        ultimo_numero = n % 10\n",
    "        resto = n // 10\n",
    "        return ultimo_numero + suma_digitos(resto)\n",
    "    \n",
    "numero = int(input(\"Ingresa un numero: \"))\n",
    "resultado = suma_digitos(numero)\n",
    "print(f\"La suma de los digitos de {numero} es {resultado}\")"
   ]
  },
  {
   "cell_type": "markdown",
   "id": "75eda6a5",
   "metadata": {},
   "source": [
    "7) Un niño está construyendo una pirámide con bloques. En el nivel más bajo coloca n\n",
    "bloques, en el siguiente nivel uno menos (n - 1), y así sucesivamente hasta llegar al\n",
    "último nivel con un solo bloque.\n",
    "Escribí una función recursiva contar_bloques(n) que reciba el número de bloques en el\n",
    "nivel más bajo y devuelva el total de bloques que necesita para construir toda la\n",
    "pirámide.\n",
    " Ejemplos:\n",
    "contar_bloques(1) → 1 (1)\n",
    "contar_bloques(2) → 3 (2 + 1)\n",
    "contar_bloques(4) → 10 (4 + 3 + 2 + 1)"
   ]
  },
  {
   "cell_type": "code",
   "execution_count": 48,
   "id": "83f4e9fa",
   "metadata": {},
   "outputs": [
    {
     "data": {
      "text/plain": [
       "10"
      ]
     },
     "execution_count": 48,
     "metadata": {},
     "output_type": "execute_result"
    }
   ],
   "source": [
    "def contar_bloques(n):\n",
    "    if n == 1:\n",
    "        return 1\n",
    "    else:\n",
    "        return n + contar_bloques(n-1)\n",
    "        \n",
    "\n",
    "bloques = int(input(\"Ingresa un numero de bloques para el nivel mas bajo: \"))\n",
    "contar_bloques(bloques)"
   ]
  },
  {
   "cell_type": "markdown",
   "id": "803e5391",
   "metadata": {},
   "source": [
    "8) Escribí una función recursiva llamada contar_digito(numero, digito) que reciba un\n",
    "número entero positivo (numero) y un dígito (entre 0 y 9), y devuelva cuántas veces\n",
    "aparece ese dígito dentro del número.\n",
    " Ejemplos:\n",
    "contar_digito(12233421, 2) → 3\n",
    "contar_digito(5555, 5) → 4 "
   ]
  },
  {
   "cell_type": "code",
   "execution_count": 49,
   "id": "b4c4056a",
   "metadata": {},
   "outputs": [
    {
     "name": "stdout",
     "output_type": "stream",
     "text": [
      "El digito 2 aparece 3 veces en 12233421\n"
     ]
    }
   ],
   "source": [
    "def contar_digito(numero, digito):\n",
    "    if numero < 10:\n",
    "        if numero == digito:\n",
    "            return 1\n",
    "        else:\n",
    "            return 0\n",
    "    else:\n",
    "        ultimo_digito = numero % 10\n",
    "        resto = numero // 10\n",
    "        total = 1 if ultimo_digito == digito else 0\n",
    "        return total + contar_digito(resto, digito)\n",
    "\n",
    "numero = int(input(\"Inresa un numero entero positivo: \"))\n",
    "digito = int(input(\"Ingresa un digio entre 0 y 9: \"))\n",
    "resultado = contar_digito(numero, digito)\n",
    "print(f\"El digito {digito} aparece {resultado} veces en {numero}\")"
   ]
  }
 ],
 "metadata": {
  "kernelspec": {
   "display_name": "Python 3",
   "language": "python",
   "name": "python3"
  },
  "language_info": {
   "codemirror_mode": {
    "name": "ipython",
    "version": 3
   },
   "file_extension": ".py",
   "mimetype": "text/x-python",
   "name": "python",
   "nbconvert_exporter": "python",
   "pygments_lexer": "ipython3",
   "version": "3.13.1"
  }
 },
 "nbformat": 4,
 "nbformat_minor": 5
}

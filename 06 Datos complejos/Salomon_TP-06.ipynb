{
 "cells": [
  {
   "cell_type": "markdown",
   "id": "1d903317",
   "metadata": {},
   "source": [
    "1) Dado el diccionario precios_frutas\n",
    "precios_frutas = {'Banana': 1200, 'Ananá': 2500, 'Melón': 3000, 'Uva':\n",
    "1450}\n",
    "Añadir las siguientes frutas con sus respectivos precios:\n",
    "● Naranja = 1200\n",
    "● Manzana = 1500\n",
    "● Pera = 2300"
   ]
  },
  {
   "cell_type": "code",
   "execution_count": 1,
   "id": "b326ae3c",
   "metadata": {},
   "outputs": [
    {
     "name": "stdout",
     "output_type": "stream",
     "text": [
      "{'Banana': 1200, 'Ananá': 2500, 'Melón': 3000, 'Uva': 1450, 'Naranja': 1200, 'Manzana': 1500, 'Pera': 2300}\n"
     ]
    }
   ],
   "source": [
    "precios_frutas = {'Banana': 1200, 'Ananá': 2500, 'Melón': 3000, 'Uva':\n",
    "1450}\n",
    "\n",
    "precios_frutas[\"Naranja\"] = 1200\n",
    "precios_frutas[\"Manzana\"] = 1500\n",
    "precios_frutas[\"Pera\"] = 2300\n",
    "\n",
    "print(precios_frutas)"
   ]
  },
  {
   "cell_type": "markdown",
   "id": "0e468b16",
   "metadata": {},
   "source": [
    "2) Siguiendo con el diccionario precios_frutas que resulta luego de ejecutar el código\n",
    "desarrollado en el punto anterior, actualizar los precios de las siguientes frutas:\n",
    "● Banana = 1330\n",
    "● Manzana = 1700\n",
    "● Melón = 2800"
   ]
  },
  {
   "cell_type": "code",
   "execution_count": 2,
   "id": "f7355f8a",
   "metadata": {},
   "outputs": [
    {
     "name": "stdout",
     "output_type": "stream",
     "text": [
      "{'Banana': 1330, 'Ananá': 2500, 'Melón': 2800, 'Uva': 1450, 'Naranja': 1200, 'Manzana': 1700, 'Pera': 2300}\n"
     ]
    }
   ],
   "source": [
    "precios_frutas = {'Banana': 1200, 'Ananá': 2500, 'Melón': 3000, 'Uva': 1450, 'Naranja': 1200, 'Manzana': 1500, 'Pera': 2300}\n",
    "precios_frutas['Banana'] = 1330\n",
    "precios_frutas['Manzana'] = 1700\n",
    "precios_frutas['Melón'] = 2800\n",
    "\n",
    "print(precios_frutas)"
   ]
  },
  {
   "cell_type": "markdown",
   "id": "a69ee43e",
   "metadata": {},
   "source": [
    "3) Siguiendo con el diccionario precios_frutas que resulta luego de ejecutar el código\n",
    "desarrollado en el punto anterior, crear una lista que contenga únicamente las frutas sin los\n",
    "precios.\n"
   ]
  },
  {
   "cell_type": "code",
   "execution_count": 4,
   "id": "7a642d0d",
   "metadata": {},
   "outputs": [
    {
     "name": "stdout",
     "output_type": "stream",
     "text": [
      "['Banana', 'Ananá', 'Melón', 'Uva', 'Naranja', 'Manzana', 'Pera']\n"
     ]
    }
   ],
   "source": [
    "precios_frutas = {'Banana': 1330, 'Ananá': 2500, 'Melón': 2800, 'Uva': 1450, 'Naranja': 1200, 'Manzana': 1700, 'Pera': 2300}\n",
    "\n",
    "frutas_claves = precios_frutas.keys()\n",
    "\n",
    "frutas_lista = list(frutas_claves)\n",
    "print(frutas_lista)"
   ]
  },
  {
   "cell_type": "markdown",
   "id": "c1d14c29",
   "metadata": {},
   "source": [
    "4) Escribí un programa que permita almacenar y consultar números telefónicos.\n",
    "• Permití al usuario cargar 5 contactos con su nombre como clave y número como valor.\n",
    "• Luego, pedí un nombre y mostrale el número asociado, si existe.\n",
    "Ejemplo:\n",
    "\n",
    "contactos = {\"Jaun\": \"123456\", \"Ana\": \"987654\"}\n",
    "#Consultar: \"Juan\" -> muestra \"123456\""
   ]
  },
  {
   "cell_type": "code",
   "execution_count": 6,
   "id": "77ce3cb5",
   "metadata": {},
   "outputs": [
    {
     "name": "stdout",
     "output_type": "stream",
     "text": [
      "789654\n"
     ]
    }
   ],
   "source": [
    "contactos = {\n",
    "    \"Alfredo\": 123456,\n",
    "    \"Gladis\": 789654,\n",
    "    \"Marcela\": 159357,\n",
    "    \"Nadim\": 357159,\n",
    "    \"Sara\": 789321\n",
    "}\n",
    "consultar = contactos[\"Gladis\"]\n",
    "print(consultar)\n"
   ]
  },
  {
   "cell_type": "markdown",
   "id": "aedee169",
   "metadata": {},
   "source": [
    "5) Solicita al usuario una frase e imprime:\n",
    "• Las palabras únicas (usando un set).\n",
    "• Un diccionario con la cantidad de veces que aparece cada palabra.\n",
    "Ejemplo:\n",
    "#entrada ->\"hola mundo hola\"\n",
    "\n",
    "#salida:\n",
    "Palabras_unicas: {\"hola\", \"mundo\"}\n",
    "recuento: {\"hola\": 2, \"mundo\": 1}\n"
   ]
  },
  {
   "cell_type": "code",
   "execution_count": 13,
   "id": "1aa80aed",
   "metadata": {},
   "outputs": [
    {
     "name": "stdout",
     "output_type": "stream",
     "text": [
      "Palabras Unicas: {'mundo', 'hola'}\n",
      "Recuento: {'hola': 1, 'mundo': 2}\n"
     ]
    }
   ],
   "source": [
    "frase = input(\"Ingresa una frase: \")\n",
    "\n",
    "# Convertimos a minúsculas y separamos en palabras\n",
    "palabras = frase.lower().split()\n",
    "\n",
    "# Conjunto de palabras únicas\n",
    "palabras_unicas = set(palabras)\n",
    "\n",
    "# Diccionario para contar cada palabra\n",
    "recuento = {}\n",
    "for palabra in palabras:\n",
    "    if palabra in recuento:\n",
    "        recuento[palabra] += 1\n",
    "    else:\n",
    "        recuento[palabra] = 1\n",
    "\n",
    "print(f\"Palabras Unicas: {palabras_unicas}\")\n",
    "print(f\"Recuento: {recuento}\")\n"
   ]
  },
  {
   "cell_type": "markdown",
   "id": "cf9bd782",
   "metadata": {},
   "source": [
    "6) Permití ingresar los nombres de 3 alumnos, y para cada uno una tupla de 3 notas.\n",
    "Luego, mostrá el promedio de cada alumno.\n",
    "Ejemplo:\n",
    "\n",
    "alumnos = {\n",
    "    \"Sofia\": (10,9,8),\n",
    "    \"Farid\": (7,8,9),\n",
    "    \"Macerla\": (9,9,8)\n",
    "}"
   ]
  },
  {
   "cell_type": "code",
   "execution_count": 14,
   "id": "51c58a79",
   "metadata": {},
   "outputs": [
    {
     "name": "stdout",
     "output_type": "stream",
     "text": [
      "\n",
      "Promedios:\n",
      "  Nadim: 8.00\n",
      "  Farid: 6.33\n",
      "  Eric: 8.33\n"
     ]
    }
   ],
   "source": [
    "# Creamos un diccionario vacío para almacenar los alumnos y sus notas\n",
    "alumnos = {}\n",
    "\n",
    "# Bucle para ingresar 3 alumnos\n",
    "for i in range(1, 4):\n",
    "    nombre = input(f\"Ingresa el nombre del alumno {i}: \")\n",
    "    \n",
    "    # Ingresamos las 3 notas de ese alumno\n",
    "    notas = []\n",
    "    for j in range(1, 4):\n",
    "        while True:\n",
    "            try:\n",
    "                nota = float(input(f\"  Ingresa la nota {j} de {nombre}: \"))\n",
    "                break\n",
    "            except ValueError:\n",
    "                print(\"    Error: debes ingresar un número.\")\n",
    "        notas.append(nota)\n",
    "    \n",
    "    # Guardamos la tupla de notas en el diccionario\n",
    "    alumnos[nombre] = tuple(notas)\n",
    "\n",
    "# Calculamos y mostramos el promedio de cada alumno\n",
    "print(\"\\nPromedios:\")\n",
    "for nombre, notas in alumnos.items():\n",
    "    promedio = sum(notas) / len(notas)\n",
    "    print(f\"  {nombre}: {promedio:.2f}\")\n"
   ]
  },
  {
   "cell_type": "markdown",
   "id": "47ac5cc2",
   "metadata": {},
   "source": [
    "7) Dado dos sets de números, representando dos listas de estudiantes que aprobaron Parcial 1\n",
    "y Parcial 2:\n",
    "• Mostrá los que aprobaron ambos parciales.\n",
    "• Mostrá los que aprobaron solo uno de los dos.\n",
    "• Mostrá la lista total de estudiantes que aprobaron al menos un parcial (sin repetir)."
   ]
  },
  {
   "cell_type": "code",
   "execution_count": 15,
   "id": "ddf54209",
   "metadata": {},
   "outputs": [
    {
     "name": "stdout",
     "output_type": "stream",
     "text": [
      "Aprobados en ambos parciales: {4, 5}\n",
      "Aprobados en solo uno de los dos: {1, 2, 3, 6, 7, 8}\n",
      "Aprobados en al menos un parcial: {1, 2, 3, 4, 5, 6, 7, 8}\n"
     ]
    }
   ],
   "source": [
    "# Listas de ejemplo (IDs de estudiantes que aprobaron cada parcial)\n",
    "parcial1 = {1, 2, 3, 4, 5}\n",
    "parcial2 = {4, 5, 6, 7, 8}\n",
    "\n",
    "# Los que aprobaron ambos parciales (intersección)\n",
    "ambos = parcial1 & parcial2\n",
    "\n",
    "# Los que aprobaron solo uno de los dos (diferencia simétrica)\n",
    "solo_uno = parcial1 ^ parcial2\n",
    "# equivalente a:\n",
    "# solo_uno = (parcial1 - parcial2) | (parcial2 - parcial1)\n",
    "\n",
    "# Lista total de estudiantes que aprobaron al menos un parcial (unión)\n",
    "al_menos_uno = parcial1 | parcial2\n",
    "\n",
    "# Mostrar resultados\n",
    "print(f\"Aprobados en ambos parciales: {ambos}\")\n",
    "print(f\"Aprobados en solo uno de los dos: {solo_uno}\")\n",
    "print(f\"Aprobados en al menos un parcial: {al_menos_uno}\")\n"
   ]
  },
  {
   "cell_type": "markdown",
   "id": "a1d62396",
   "metadata": {},
   "source": [
    "8) Armá un diccionario donde las claves sean nombres de productos y los valores su stock.\n",
    "Permití al usuario:\n",
    "• Consultar el stock de un producto ingresado.\n",
    "• Agregar unidades al stock si el producto ya existe.\n",
    "• Agregar un nuevo producto si no existe."
   ]
  },
  {
   "cell_type": "code",
   "execution_count": 16,
   "id": "f42e912c",
   "metadata": {},
   "outputs": [
    {
     "name": "stdout",
     "output_type": "stream",
     "text": [
      "\n",
      "1) Consultar stock\n",
      "2) Modificar stock (agrega existente o crea nuevo)\n",
      "3) Salir\n",
      "  manzanas: 30 unidades\n",
      "\n",
      "1) Consultar stock\n",
      "2) Modificar stock (agrega existente o crea nuevo)\n",
      "3) Salir\n",
      "  Producto nuevo 'pera' creado con stock 5.\n",
      "\n",
      "1) Consultar stock\n",
      "2) Modificar stock (agrega existente o crea nuevo)\n",
      "3) Salir\n",
      "¡Hasta luego!\n"
     ]
    }
   ],
   "source": [
    "# Stock inicial\n",
    "stock = {\n",
    "    \"manzanas\": 30,\n",
    "    \"bananas\": 15,\n",
    "    \"naranjas\": 20\n",
    "}\n",
    "\n",
    "while True:\n",
    "    print(\"\\n1) Consultar stock\")\n",
    "    print(\"2) Modificar stock (agrega existente o crea nuevo)\")\n",
    "    print(\"3) Salir\")\n",
    "    opcion = input(\"Elige 1, 2 o 3: \").strip()\n",
    "    \n",
    "    if opcion == \"1\":\n",
    "        prod = input(\"Producto a consultar: \").strip().lower()\n",
    "        if prod in stock:\n",
    "            print(f\"  {prod}: {stock[prod]} unidades\")\n",
    "        else:\n",
    "            print(f\"  {prod} no está en el inventario.\")\n",
    "    \n",
    "    elif opcion == \"2\":\n",
    "        prod = input(\"Producto a agregar o crear: \").strip().lower()\n",
    "        qty_str = input(f\"¿Cuántas unidades de '{prod}'? \").strip()\n",
    "        if not qty_str.isdigit():\n",
    "            print(\"  Debe ser un entero positivo.\")\n",
    "            continue\n",
    "        qty = int(qty_str)\n",
    "        antiguo = stock.get(prod, 0)\n",
    "        stock[prod] = antiguo + qty\n",
    "        if antiguo:\n",
    "            print(f\"  Sumaste {qty}. Nuevo stock de {prod}: {stock[prod]}\")\n",
    "        else:\n",
    "            print(f\"  Producto nuevo '{prod}' creado con stock {qty}.\")\n",
    "    \n",
    "    elif opcion == \"3\":\n",
    "        print(\"¡Hasta luego!\")\n",
    "        break\n",
    "    \n",
    "    else:\n",
    "        print(\"Opción inválida.\")    \n"
   ]
  },
  {
   "cell_type": "markdown",
   "id": "3904529b",
   "metadata": {},
   "source": [
    "9) Creá una agenda donde las claves sean tuplas de (día, hora) y los valores sean eventos.\n",
    "Ejemplo\n",
    "\n",
    "agenda = {\n",
    "    (\"lunes\": \"10:00\"): \"Reunion\",\n",
    "    (\"Martes\": \"15:00\"): \"Clase de ingles\"\n",
    "}\n",
    "\n",
    "Permití consultar qué actividad hay en cierto día y hora."
   ]
  },
  {
   "cell_type": "markdown",
   "id": "81362b01",
   "metadata": {},
   "source": [
    "10) Dado un diccionario que mapea nombres de países con sus capitales, construí un nuevo\n",
    "diccionario donde:\n",
    "• Las capitales sean las claves.\n",
    "• Los países sean los valores.\n",
    "Ejemplo:\n",
    "\n",
    "original = {\"Argentina\": \"Buenos Aires\", \"Chile\": \"Santiago\"}\n",
    "Invertido = {\"Buenos Aires\": \"Argentina\", \"Santiago\": \"Chile\"}"
   ]
  },
  {
   "cell_type": "code",
   "execution_count": 18,
   "id": "63fa770c",
   "metadata": {},
   "outputs": [
    {
     "name": "stdout",
     "output_type": "stream",
     "text": [
      "Original:   {'Argentina': 'Buenos Aires', 'Chile': 'Santiago', 'Uruguay': 'Montevideo', 'Brasil': 'Brasilia'}\n",
      "Invertido: {'Buenos Aires': 'Argentina', 'Santiago': 'Chile', 'Montevideo': 'Uruguay', 'Brasilia': 'Brasil'}\n"
     ]
    }
   ],
   "source": [
    "def invertir_diccionario(original):\n",
    "    \"\"\"\n",
    "    Dado un diccionario que mapea países a sus capitales,\n",
    "    devuelve uno nuevo que mapea capitales a países.\n",
    "    \"\"\"\n",
    "    return {capital: pais for pais, capital in original.items()}\n",
    "\n",
    "if __name__ == \"__main__\":\n",
    "    original = {\n",
    "        \"Argentina\": \"Buenos Aires\",\n",
    "        \"Chile\":     \"Santiago\",\n",
    "        \"Uruguay\":   \"Montevideo\",\n",
    "        \"Brasil\":    \"Brasilia\"\n",
    "    }\n",
    "    \n",
    "    invertido = invertir_diccionario(original)\n",
    "    \n",
    "    print(\"Original:  \", original)\n",
    "    print(\"Invertido:\", invertido)"
   ]
  }
 ],
 "metadata": {
  "kernelspec": {
   "display_name": "Python 3",
   "language": "python",
   "name": "python3"
  },
  "language_info": {
   "codemirror_mode": {
    "name": "ipython",
    "version": 3
   },
   "file_extension": ".py",
   "mimetype": "text/x-python",
   "name": "python",
   "nbconvert_exporter": "python",
   "pygments_lexer": "ipython3",
   "version": "3.13.1"
  }
 },
 "nbformat": 4,
 "nbformat_minor": 5
}

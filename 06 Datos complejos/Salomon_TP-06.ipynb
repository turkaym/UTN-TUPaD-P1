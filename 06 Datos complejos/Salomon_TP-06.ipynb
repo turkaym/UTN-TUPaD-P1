{
 "cells": [
  {
   "cell_type": "markdown",
   "id": "1d903317",
   "metadata": {},
   "source": [
    "1) Dado el diccionario precios_frutas\n",
    "precios_frutas = {'Banana': 1200, 'Ananá': 2500, 'Melón': 3000, 'Uva':\n",
    "1450}\n",
    "Añadir las siguientes frutas con sus respectivos precios:\n",
    "● Naranja = 1200\n",
    "● Manzana = 1500\n",
    "● Pera = 2300"
   ]
  },
  {
   "cell_type": "code",
   "execution_count": 1,
   "id": "b326ae3c",
   "metadata": {},
   "outputs": [
    {
     "name": "stdout",
     "output_type": "stream",
     "text": [
      "{'Banana': 1200, 'Ananá': 2500, 'Melón': 3000, 'Uva': 1450, 'Naranja': 1200, 'Manzana': 1500, 'Pera': 2300}\n"
     ]
    }
   ],
   "source": [
    "precios_frutas = {'Banana': 1200, 'Ananá': 2500, 'Melón': 3000, 'Uva':\n",
    "1450}\n",
    "\n",
    "precios_frutas[\"Naranja\"] = 1200\n",
    "precios_frutas[\"Manzana\"] = 1500\n",
    "precios_frutas[\"Pera\"] = 2300\n",
    "\n",
    "print(precios_frutas)"
   ]
  },
  {
   "cell_type": "markdown",
   "id": "0e468b16",
   "metadata": {},
   "source": [
    "2) Siguiendo con el diccionario precios_frutas que resulta luego de ejecutar el código\n",
    "desarrollado en el punto anterior, actualizar los precios de las siguientes frutas:\n",
    "● Banana = 1330\n",
    "● Manzana = 1700\n",
    "● Melón = 2800"
   ]
  },
  {
   "cell_type": "code",
   "execution_count": 2,
   "id": "f7355f8a",
   "metadata": {},
   "outputs": [
    {
     "name": "stdout",
     "output_type": "stream",
     "text": [
      "{'Banana': 1330, 'Ananá': 2500, 'Melón': 2800, 'Uva': 1450, 'Naranja': 1200, 'Manzana': 1700, 'Pera': 2300}\n"
     ]
    }
   ],
   "source": [
    "precios_frutas = {'Banana': 1200, 'Ananá': 2500, 'Melón': 3000, 'Uva': 1450, 'Naranja': 1200, 'Manzana': 1500, 'Pera': 2300}\n",
    "precios_frutas['Banana'] = 1330\n",
    "precios_frutas['Manzana'] = 1700\n",
    "precios_frutas['Melón'] = 2800\n",
    "\n",
    "print(precios_frutas)"
   ]
  },
  {
   "cell_type": "markdown",
   "id": "a69ee43e",
   "metadata": {},
   "source": [
    "3) Siguiendo con el diccionario precios_frutas que resulta luego de ejecutar el código\n",
    "desarrollado en el punto anterior, crear una lista que contenga únicamente las frutas sin los\n",
    "precios.\n"
   ]
  },
  {
   "cell_type": "code",
   "execution_count": 4,
   "id": "7a642d0d",
   "metadata": {},
   "outputs": [
    {
     "name": "stdout",
     "output_type": "stream",
     "text": [
      "['Banana', 'Ananá', 'Melón', 'Uva', 'Naranja', 'Manzana', 'Pera']\n"
     ]
    }
   ],
   "source": [
    "precios_frutas = {'Banana': 1330, 'Ananá': 2500, 'Melón': 2800, 'Uva': 1450, 'Naranja': 1200, 'Manzana': 1700, 'Pera': 2300}\n",
    "\n",
    "frutas_claves = precios_frutas.keys()\n",
    "\n",
    "frutas_lista = list(frutas_claves)\n",
    "print(frutas_lista)"
   ]
  },
  {
   "cell_type": "markdown",
   "id": "c1d14c29",
   "metadata": {},
   "source": [
    "4) Escribí un programa que permita almacenar y consultar números telefónicos.\n",
    "• Permití al usuario cargar 5 contactos con su nombre como clave y número como valor.\n",
    "• Luego, pedí un nombre y mostrale el número asociado, si existe.\n",
    "Ejemplo:\n",
    "\n",
    "contactos = {\"Jaun\": \"123456\", \"Ana\": \"987654\"}\n",
    "#Consultar: \"Juan\" -> muestra \"123456\""
   ]
  },
  {
   "cell_type": "code",
   "execution_count": 6,
   "id": "77ce3cb5",
   "metadata": {},
   "outputs": [
    {
     "name": "stdout",
     "output_type": "stream",
     "text": [
      "789654\n"
     ]
    }
   ],
   "source": [
    "contactos = {\n",
    "    \"Alfredo\": 123456,\n",
    "    \"Gladis\": 789654,\n",
    "    \"Marcela\": 159357,\n",
    "    \"Nadim\": 357159,\n",
    "    \"Sara\": 789321\n",
    "}\n",
    "consultar = contactos[\"Gladis\"]\n",
    "print(consultar)\n"
   ]
  },
  {
   "cell_type": "markdown",
   "id": "aedee169",
   "metadata": {},
   "source": [
    "5) Solicita al usuario una frase e imprime:\n",
    "• Las palabras únicas (usando un set).\n",
    "• Un diccionario con la cantidad de veces que aparece cada palabra.\n",
    "Ejemplo:\n",
    "#entrada ->\"hola mundo hola\"\n",
    "\n",
    "#salida:\n",
    "Palabras_unicas: {\"hola\", \"mundo\"}\n",
    "recuento: {\"hola\": 2, \"mundo\": 1}\n"
   ]
  },
  {
   "cell_type": "code",
   "execution_count": 13,
   "id": "1aa80aed",
   "metadata": {},
   "outputs": [
    {
     "name": "stdout",
     "output_type": "stream",
     "text": [
      "Palabras Unicas: {'mundo', 'hola'}\n",
      "Recuento: {'hola': 1, 'mundo': 2}\n"
     ]
    }
   ],
   "source": [
    "frase = input(\"Ingresa una frase: \")\n",
    "\n",
    "# Convertimos a minúsculas y separamos en palabras\n",
    "palabras = frase.lower().split()\n",
    "\n",
    "# Conjunto de palabras únicas\n",
    "palabras_unicas = set(palabras)\n",
    "\n",
    "# Diccionario para contar cada palabra\n",
    "recuento = {}\n",
    "for palabra in palabras:\n",
    "    if palabra in recuento:\n",
    "        recuento[palabra] += 1\n",
    "    else:\n",
    "        recuento[palabra] = 1\n",
    "\n",
    "print(f\"Palabras Unicas: {palabras_unicas}\")\n",
    "print(f\"Recuento: {recuento}\")\n"
   ]
  },
  {
   "cell_type": "markdown",
   "id": "cf9bd782",
   "metadata": {},
   "source": [
    "6) Permití ingresar los nombres de 3 alumnos, y para cada uno una tupla de 3 notas.\n",
    "Luego, mostrá el promedio de cada alumno.\n",
    "Ejemplo:"
   ]
  },
  {
   "cell_type": "code",
   "execution_count": null,
   "id": "51c58a79",
   "metadata": {},
   "outputs": [],
   "source": []
  },
  {
   "cell_type": "markdown",
   "id": "47ac5cc2",
   "metadata": {},
   "source": [
    "7) Dado dos sets de números, representando dos listas de estudiantes que aprobaron Parcial 1\n",
    "y Parcial 2:\n",
    "• Mostrá los que aprobaron ambos parciales.\n",
    "• Mostrá los que aprobaron solo uno de los dos.\n",
    "• Mostrá la lista total de estudiantes que aprobaron al menos un parcial (sin repetir)."
   ]
  },
  {
   "cell_type": "code",
   "execution_count": null,
   "id": "ddf54209",
   "metadata": {},
   "outputs": [],
   "source": []
  },
  {
   "cell_type": "markdown",
   "id": "a1d62396",
   "metadata": {},
   "source": [
    "8) Armá un diccionario donde las claves sean nombres de productos y los valores su stock.\n",
    "Permití al usuario:\n",
    "• Consultar el stock de un producto ingresado.\n",
    "• Agregar unidades al stock si el producto ya existe.\n",
    "• Agregar un nuevo producto si no existe."
   ]
  },
  {
   "cell_type": "code",
   "execution_count": null,
   "id": "f42e912c",
   "metadata": {},
   "outputs": [],
   "source": []
  },
  {
   "cell_type": "markdown",
   "id": "3904529b",
   "metadata": {},
   "source": [
    "9) Creá una agenda donde las claves sean tuplas de (día, hora) y los valores sean eventos.\n",
    "Ejemplo"
   ]
  },
  {
   "cell_type": "code",
   "execution_count": null,
   "id": "bc05f234",
   "metadata": {},
   "outputs": [],
   "source": []
  },
  {
   "cell_type": "markdown",
   "id": "81362b01",
   "metadata": {},
   "source": [
    "10) Dado un diccionario que mapea nombres de países con sus capitales, construí un nuevo\n",
    "diccionario donde:\n",
    "• Las capitales sean las claves.\n",
    "• Los países sean los valores.\n",
    "Ejemplo:"
   ]
  }
 ],
 "metadata": {
  "kernelspec": {
   "display_name": "Python 3",
   "language": "python",
   "name": "python3"
  },
  "language_info": {
   "codemirror_mode": {
    "name": "ipython",
    "version": 3
   },
   "file_extension": ".py",
   "mimetype": "text/x-python",
   "name": "python",
   "nbconvert_exporter": "python",
   "pygments_lexer": "ipython3",
   "version": "3.13.1"
  }
 },
 "nbformat": 4,
 "nbformat_minor": 5
}
